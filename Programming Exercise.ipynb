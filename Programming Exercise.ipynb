{
 "cells": [
  {
   "cell_type": "markdown",
   "metadata": {},
   "source": [
    "# Programming Exercise"
   ]
  },
  {
   "cell_type": "markdown",
   "metadata": {},
   "source": [
    "### Modules"
   ]
  },
  {
   "cell_type": "code",
   "execution_count": 1,
   "metadata": {},
   "outputs": [],
   "source": [
    "import easygui#Read file from file explorer\n",
    "from shapely.geometry import LineString #For converting coordinates to line segment objects\n",
    "from unionFind import union_find #Class to implement Union-Find Algorithm\n",
    "import time #For computing and comparing loop execution time\n",
    "from copy import deepcopy"
   ]
  },
  {
   "cell_type": "markdown",
   "metadata": {},
   "source": [
    "### Reading file and Data Sanitization"
   ]
  },
  {
   "cell_type": "code",
   "execution_count": 2,
   "metadata": {},
   "outputs": [
    {
     "name": "stdout",
     "output_type": "stream",
     "text": [
      "Read file: /Users/shrutisivakumar/Heartflow/lines_286.txt\n"
     ]
    }
   ],
   "source": [
    "# Read coordinates from text file: each row is a line segment: x1,y1,x2,y2\n",
    "file = easygui.fileopenbox()\n",
    "with open(file) as f:\n",
    "    orig_coords = [list(float(c) for c in line.split()) for line in f]\n",
    "orig_coords[:5] #Sample input\n",
    "print(f\"Read file: {file}\")"
   ]
  },
  {
   "cell_type": "code",
   "execution_count": 3,
   "metadata": {},
   "outputs": [],
   "source": [
    "#Filter out empty list elements\n",
    "filtered_coords = list(filter(None, orig_coords))"
   ]
  },
  {
   "cell_type": "code",
   "execution_count": 4,
   "metadata": {},
   "outputs": [],
   "source": [
    "#For each line segment, place the left-most point on the left\n",
    "left_sorted_coords = deepcopy(filtered_coords)\n",
    "for line in left_sorted_coords:\n",
    "    if line[2]<line[0]:\n",
    "        temp_x1 = line[0]\n",
    "        temp_y1 = line[1]\n",
    "        line[0] = line[2]\n",
    "        line[1] = line[3]\n",
    "        line[2] = temp_x1\n",
    "        line[3] = temp_y1"
   ]
  },
  {
   "cell_type": "code",
   "execution_count": 5,
   "metadata": {},
   "outputs": [],
   "source": [
    "#Sort the line segments by their left-most x-coordinate so that intersecting lines can be grouped early on\n",
    "sorted_coords = sorted(left_sorted_coords, key=lambda x: x[0])"
   ]
  },
  {
   "cell_type": "markdown",
   "metadata": {},
   "source": [
    "### Check if line segments intersect and implement union-find"
   ]
  },
  {
   "cell_type": "markdown",
   "metadata": {},
   "source": [
    "1. Implementing on filtered coordinates"
   ]
  },
  {
   "cell_type": "code",
   "execution_count": 6,
   "metadata": {},
   "outputs": [],
   "source": [
    "#Creating a list of lines from filtered coordinates\n",
    "line_list1 = list(map(lambda x: LineString([(x[0],x[1]),(x[2],x[3])]), filtered_coords))\n",
    "#Implementing Union-Find method\n",
    "myset = union_find(len(line_list1))\n",
    "start_time=time.time()\n",
    "for i in range(len(line_list1)-1):\n",
    "    for j in range(i+1,len(line_list1)):\n",
    "            if (line_list1[i].intersects(line_list1[j])==True):\n",
    "                union_find.union(myset,i,j)\n",
    "end_time=time.time()"
   ]
  },
  {
   "cell_type": "code",
   "execution_count": 7,
   "metadata": {},
   "outputs": [
    {
     "name": "stdout",
     "output_type": "stream",
     "text": [
      "Time elapsed: 147.974347114563 s\n",
      "Number of groups: 286\n"
     ]
    }
   ],
   "source": [
    "print(f\"Time elapsed: {end_time-start_time} s\")\n",
    "print(f\"Number of groups: {union_find.count(myset)}\")"
   ]
  },
  {
   "cell_type": "markdown",
   "metadata": {},
   "source": [
    "2. Implementing on left-sorted coordinates"
   ]
  },
  {
   "cell_type": "code",
   "execution_count": 8,
   "metadata": {},
   "outputs": [],
   "source": [
    "#Creating a list of lines from left-sorted coordinates\n",
    "line_list1 = list(map(lambda x: LineString([(x[0],x[1]),(x[2],x[3])]), left_sorted_coords))\n",
    "#Implementing Union-Find method\n",
    "myset = union_find(len(line_list1))\n",
    "start_time=time.time()\n",
    "for i in range(len(line_list1)-1):\n",
    "    for j in range(i+1,len(line_list1)):\n",
    "            if (line_list1[i].intersects(line_list1[j])==True):\n",
    "                union_find.union(myset,i,j)\n",
    "end_time=time.time()"
   ]
  },
  {
   "cell_type": "code",
   "execution_count": 9,
   "metadata": {},
   "outputs": [
    {
     "name": "stdout",
     "output_type": "stream",
     "text": [
      "Time elapsed: 174.46793603897095 s\n",
      "Number of groups: 286\n"
     ]
    }
   ],
   "source": [
    "print(f\"Time elapsed: {end_time-start_time} s\")\n",
    "print(f\"Number of groups: {union_find.count(myset)}\")"
   ]
  },
  {
   "cell_type": "markdown",
   "metadata": {},
   "source": [
    "3. Implementing on left-sorted coordinates with a check for existing connectivity"
   ]
  },
  {
   "cell_type": "code",
   "execution_count": 10,
   "metadata": {},
   "outputs": [],
   "source": [
    "#Creating a list of lines from left-sorted coordinates\n",
    "line_list1 = list(map(lambda x: LineString([(x[0],x[1]),(x[2],x[3])]), left_sorted_coords))\n",
    "#Implementing Union-Find method\n",
    "myset = union_find(len(line_list1))\n",
    "start_time=time.time()\n",
    "for i in range(len(line_list1)-1):\n",
    "    for j in range(i+1,len(line_list1)):\n",
    "        if union_find.connected(myset,i,j)==False: #If parent are not the same, check for intersection. Else, skip.\n",
    "            if (line_list1[i].intersects(line_list1[j])==True):\n",
    "                union_find.union(myset,i,j)\n",
    "end_time=time.time()"
   ]
  },
  {
   "cell_type": "code",
   "execution_count": 11,
   "metadata": {},
   "outputs": [
    {
     "name": "stdout",
     "output_type": "stream",
     "text": [
      "Time elapsed: 190.72731113433838 s\n",
      "Number of groups: 286\n"
     ]
    }
   ],
   "source": [
    "print(f\"Time elapsed: {end_time-start_time} s\")\n",
    "print(f\"Number of groups: {union_find.count(myset)}\")"
   ]
  },
  {
   "cell_type": "markdown",
   "metadata": {},
   "source": [
    "4. Implementing on left-to-right sorted coordinates with a check for existing connectivity"
   ]
  },
  {
   "cell_type": "code",
   "execution_count": 12,
   "metadata": {},
   "outputs": [],
   "source": [
    "#Sort the line segments by their left-most x-coordinate so that intersecting lines can be grouped early on\n",
    "line_list1 = list(map(lambda x: LineString([(x[0],x[1]),(x[2],x[3])]), sorted_coords))\n",
    "#Implementing Union-Find method\n",
    "myset = union_find(len(line_list1))\n",
    "start_time=time.time()\n",
    "for i in range(len(line_list1)-1):\n",
    "    for j in range(i+1,len(line_list1)):\n",
    "        if union_find.connected(myset,i,j)==False: #If parent are not the same, check for intersection. Else, skip.\n",
    "            if (line_list1[i].intersects(line_list1[j])==True):\n",
    "                union_find.union(myset,i,j)\n",
    "end_time=time.time()"
   ]
  },
  {
   "cell_type": "code",
   "execution_count": 13,
   "metadata": {},
   "outputs": [
    {
     "name": "stdout",
     "output_type": "stream",
     "text": [
      "Time elapsed: 240.42264866828918 s\n",
      "Number of groups: 286\n"
     ]
    }
   ],
   "source": [
    "print(f\"Time elapsed: {end_time-start_time} s\")\n",
    "print(f\"Number of groups: {union_find.count(myset)}\")"
   ]
  }
 ],
 "metadata": {
  "kernelspec": {
   "display_name": "Python 3",
   "language": "python",
   "name": "python3"
  },
  "language_info": {
   "codemirror_mode": {
    "name": "ipython",
    "version": 3
   },
   "file_extension": ".py",
   "mimetype": "text/x-python",
   "name": "python",
   "nbconvert_exporter": "python",
   "pygments_lexer": "ipython3",
   "version": "3.8.3"
  }
 },
 "nbformat": 4,
 "nbformat_minor": 4
}
